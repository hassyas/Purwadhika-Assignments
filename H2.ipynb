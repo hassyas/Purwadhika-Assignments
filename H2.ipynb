{
 "cells": [
  {
   "cell_type": "markdown",
   "metadata": {},
   "source": [
    "Q7. You can represent a date with three integers for the year, month, and day, but this doesn’t mean that any integers represent a valid date. After all, there is no 13th month of the year or 32nd day of any month. This exercise has you check if a year/month/day combination is valid, given that different months have different numbers of days. Write anisValidDate() function with parameters year, month, and day. The function should return True if the integers provided for these parameters represent a valid date. Otherwise, the function returns False. Your solution is correct if the following assert statements’ conditions are all True:\n",
    "\n",
    "Logic: \n",
    "In this problem we are prompted to establish a function which are able to identify if a year, month and date input is valid or not. Behind the establishment of this program is to create 3 identifiers which can determine: \n",
    "-if a year is smaller than 1 is false\n",
    "-if a month is smaller than 1 or bigger than 12 is false\n",
    "-if a date is smaller than 1 or bigger than determined max date (according to each month)\n",
    "-if a date is == 2, year % 4 == 0, year % 100 != 0, year % 400 == 0\n",
    "    with secondary conditonal date > 29\n"
   ]
  },
  {
   "cell_type": "code",
   "execution_count": 9,
   "metadata": {},
   "outputs": [],
   "source": [
    "def isValidDate(year,month,date):\n",
    "    \n",
    "    max_date = [0,31,28,31,30,31,30,31,31,30,31,30,31]\n",
    "\n",
    "    if year <1:\n",
    "        return False\n",
    "    \n",
    "    if month <1 or month> 12:\n",
    "        return False\n",
    "    \n",
    "    if date <1 or date> max_date[month]:\n",
    "        return False\n",
    "    \n",
    "    if month == 2 and year % 4 == 0 and (year % 100 != 0 and year % 400 ==0):\n",
    "        if date > 29:\n",
    "            return False\n",
    "    \n",
    "\n",
    "    return True\n",
    "\n",
    "assert isValidDate(2001, 2, 29) == False\n",
    "assert isValidDate(2029, 13, 1) == False\n",
    "assert isValidDate(1000000, 1, 1) == True\n",
    "assert isValidDate(2015, 4, 31) == False\n",
    "\n"
   ]
  },
  {
   "cell_type": "markdown",
   "metadata": {},
   "source": [
    "Q8. In the US and UK, the digits of numbers are grouped with commas every three digits. For example, the number 79033516 is written as 79,033,516 for readability. Write a commaFormat() function with a number parameter. The argument for this parameter can be an integer or floating-point number. Your function returns a string of this number with proper US/UK comma formatting. There is a comma after every third digit in the whole number part. There are no commas at all in the fractional part: The proper comma formatting of 1234.5678 is 1,234.5678 and not 1,234.567,8. Your solution is correct if the following assert statements’ conditions are all True:\n",
    "\n",
    "Logic:\n",
    "Determine whether the numerics which are entered are float or not. If it is a float number,then a comma will be added as part of the number format. Then if the number is a float it will be formatted accordingly in the program."
   ]
  },
  {
   "cell_type": "code",
   "execution_count": 14,
   "metadata": {},
   "outputs": [],
   "source": [
    "def commaFormat(number):\n",
    "     is_float = isinstance(number, float)\n",
    "\n",
    "     formatted_number = \"{:,}\".format(number)\n",
    "\n",
    "     if is_float:\n",
    "          integer_part, fractional_part = formatted_number.split('.')\n",
    "          formated_number = f\"{integer_part}.{fractional_part}\"\n",
    "          \n",
    "     return formatted_number\n",
    "\n",
    "assert commaFormat(1) == '1'\n",
    "assert commaFormat(10) == '10'\n",
    "assert commaFormat(100) == '100'\n",
    "assert commaFormat(1000) == '1,000'\n",
    "assert commaFormat(10000) == '10,000'\n",
    "assert commaFormat(100000) == '100,000'\n",
    "assert commaFormat(1000000) == '1,000,000'\n",
    "assert commaFormat(1234567890) == '1,234,567,890'\n",
    "assert commaFormat(1000.123456) == '1,000.123456' "
   ]
  }
 ],
 "metadata": {
  "kernelspec": {
   "display_name": "Python 3",
   "language": "python",
   "name": "python3"
  },
  "language_info": {
   "codemirror_mode": {
    "name": "ipython",
    "version": 3
   },
   "file_extension": ".py",
   "mimetype": "text/x-python",
   "name": "python",
   "nbconvert_exporter": "python",
   "pygments_lexer": "ipython3",
   "version": "3.11.4"
  },
  "orig_nbformat": 4
 },
 "nbformat": 4,
 "nbformat_minor": 2
}
