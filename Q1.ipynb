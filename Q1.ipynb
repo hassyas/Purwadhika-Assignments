{
 "cells": [
  {
   "cell_type": "markdown",
   "metadata": {},
   "source": [
    "1. Name Four Data Types\n",
    "Answer: The 4 data types are; numerics, sequences, mappings and set"
   ]
  },
  {
   "cell_type": "markdown",
   "metadata": {},
   "source": [
    "2. What is the different between mutable and immutable? Give an example of each of these.\n",
    "Answer: Objects that are mutable can have their value or data changed while still maintaining their identity. Immutable objects, however, prohibit this sort of action. Only new objects of the same type with different values will be available to you."
   ]
  },
  {
   "cell_type": "markdown",
   "metadata": {},
   "source": [
    "3. Which of the following are operators, and which are values?\n",
    "* = operator\n",
    "'hello' = value\n",
    "-88 = value\n",
    "8 = value\n",
    "- = operator\n",
    "+ = operator\n",
    "5 = value"
   ]
  },
  {
   "cell_type": "markdown",
   "metadata": {},
   "source": [
    "4. Why is eggs a valid variable name while 100 is invalid?\n",
    "Answer: Because variable 'eggs' begins with an alphabet and does not violate any other constitutions for a varible to be valid. While '100' is invalid because a varibale cannot begin with a number."
   ]
  },
  {
   "cell_type": "markdown",
   "metadata": {},
   "source": [
    "\n",
    "5. What three functions can be used to get the integer, floating-point number, or string version of a value?\n",
    "Answer:\n",
    "int()\n",
    "float()\n",
    "str()"
   ]
  },
  {
   "cell_type": "markdown",
   "metadata": {},
   "source": [
    "6. Why does this expression cause an error? How can you fix it?"
   ]
  },
  {
   "cell_type": "code",
   "execution_count": 9,
   "metadata": {},
   "outputs": [
    {
     "name": "stdout",
     "output_type": "stream",
     "text": [
      "I have eaten 99 burritos\n"
     ]
    }
   ],
   "source": [
    "#print('I have eaten ' + 99 + ' burritos.')\n",
    "num_burritos = 99\n",
    "sentence = \"I have eaten {} burritos\"\n",
    "\n",
    "print(sentence.format(num_burritos))"
   ]
  },
  {
   "cell_type": "markdown",
   "metadata": {},
   "source": [
    "7. What do the \\n and \\t escape characters represent?\n",
    "Answer;\n",
    "\\n = new line\n",
    "\\t = new tab "
   ]
  },
  {
   "cell_type": "markdown",
   "metadata": {},
   "source": [
    "8. How can you put a \\ backslash character in a string?\n",
    "Answer: use a double backslash `\\`"
   ]
  },
  {
   "cell_type": "markdown",
   "metadata": {},
   "source": [
    "9.The below string value is a valid string. Why isn’t it a problem that the single quote character in the word Howl's isn’t escaped?\n",
    "\n",
    "print(\"Howl's Moving Castle\")\n",
    "\n",
    "Answer: Because we have already used double quote (\") to mark the beginning and end"
   ]
  },
  {
   "cell_type": "markdown",
   "metadata": {},
   "source": [
    "What do the following expressions evaluate to?"
   ]
  },
  {
   "cell_type": "code",
   "execution_count": 10,
   "metadata": {},
   "outputs": [
    {
     "name": "stdout",
     "output_type": "stream",
     "text": [
      "o\n",
      ",olleH\n",
      "llo, \n",
      "lo, worl\n"
     ]
    }
   ],
   "source": [
    "\"\"\"\n",
    "Answer; \n",
    "Print 1 only takes the 8th chatacter - o\n",
    "Print 2 only takes the first 5 characters and reverses it - ,olleH\n",
    "Print 3 only takes characters 2 until 7 - llo,\n",
    "Print 4 only takes character 3,4,5 starting from the left side and -2,-3,-4,-5 from the right side - lo, worl \n",
    "\"\"\"\n",
    "\n",
    "print('Hello, world!'[8])\n",
    "print('Hello, world!'[5::-1])\n",
    "print('Hello, world!'[2:7])\n",
    "print('Hello, world!'[3:-2])"
   ]
  },
  {
   "cell_type": "markdown",
   "metadata": {},
   "source": [
    "What do the following expressions evaluate to?"
   ]
  },
  {
   "cell_type": "code",
   "execution_count": 11,
   "metadata": {},
   "outputs": [
    {
     "name": "stdout",
     "output_type": "stream",
     "text": [
      "HELLO\n",
      "Hello\n",
      "hello\n"
     ]
    }
   ],
   "source": [
    "print('Hello'.upper())\n",
    "print('hELlO'.capitalize())\n",
    "print('Hello'.lower())\n",
    "\n",
    "\"\"\" \n",
    "Answer;\n",
    "HELLO - all letters are in uppercase\n",
    "Hello - Capitalizes first letter only\n",
    "hello - all letters are in lowercase\n",
    "\"\"\"\n"
   ]
  },
  {
   "cell_type": "markdown",
   "metadata": {},
   "source": [
    "12. What do the following expressions evaluate to?"
   ]
  },
  {
   "cell_type": "code",
   "execution_count": 12,
   "metadata": {},
   "outputs": [
    {
     "name": "stdout",
     "output_type": "stream",
     "text": [
      "['Re', 'e', 'ber, re', 'e', 'ber, the fifth of Nove', 'ber']\n",
      "There-can-be-only-one\n"
     ]
    }
   ],
   "source": [
    "\"\"\"\n",
    "Answer:\n",
    "The 1st syntax removes all letter 'm' within the sentence\n",
    "While the 2nd syntax adds '-' in between spaces within the sentence.\n",
    "\"\"\"\n",
    "print('Remember, remember, the fifth of November'.split('m'))\n",
    "print('-'.join('There can be only one'.split()))"
   ]
  }
 ],
 "metadata": {
  "kernelspec": {
   "display_name": "Python 3",
   "language": "python",
   "name": "python3"
  },
  "language_info": {
   "codemirror_mode": {
    "name": "ipython",
    "version": 3
   },
   "file_extension": ".py",
   "mimetype": "text/x-python",
   "name": "python",
   "nbconvert_exporter": "python",
   "pygments_lexer": "ipython3",
   "version": "3.11.4"
  },
  "orig_nbformat": 4
 },
 "nbformat": 4,
 "nbformat_minor": 2
}
